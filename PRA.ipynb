{
  "nbformat": 4,
  "nbformat_minor": 0,
  "metadata": {
    "colab": {
      "provenance": [],
      "authorship_tag": "ABX9TyNsGonuzGIEP7TyvEK3T4CL",
      "include_colab_link": true
    },
    "kernelspec": {
      "name": "python3",
      "display_name": "Python 3"
    },
    "language_info": {
      "name": "python"
    }
  },
  "cells": [
    {
      "cell_type": "markdown",
      "metadata": {
        "id": "view-in-github",
        "colab_type": "text"
      },
      "source": [
        "<a href=\"https://colab.research.google.com/github/Dhruvnet/Page_replacement_algorithm/blob/main/PRA.ipynb\" target=\"_parent\"><img src=\"https://colab.research.google.com/assets/colab-badge.svg\" alt=\"Open In Colab\"/></a>"
      ]
    },
    {
      "cell_type": "markdown",
      "source": [
        "# **FCFS**"
      ],
      "metadata": {
        "id": "u3xa9Wh6gOhO"
      }
    },
    {
      "cell_type": "code",
      "execution_count": null,
      "metadata": {
        "colab": {
          "base_uri": "https://localhost:8080/"
        },
        "id": "ftEMZDvRgJz3",
        "outputId": "b64e87ef-4e66-4737-9b2f-6345129e1480"
      },
      "outputs": [
        {
          "output_type": "stream",
          "name": "stdout",
          "text": [
            "Enter the number of frames: 3\n",
            "Enter the reference string: 1 3 0 3 5 6\n",
            "\n",
            "String|Frame \t0 1 2 Fault\n",
            "   \n",
            "\n",
            "   1\t\t1      Yes\n",
            "   3\t\t1 3    Yes\n",
            "   0\t\t1 3 0  Yes\n",
            "   3\t\t1 3 0  No\n",
            "   5\t\t5 3 0  Yes\n",
            "   6\t\t5 6 0  Yes\n",
            "\n",
            "Total requests: 6\n",
            "Total Page Faults: 5\n",
            "Fault Rate: 83.33%\n"
          ]
        }
      ],
      "source": [
        "print(\"Enter the number of frames: \",end=\"\")\n",
        "capacity = int(input())\n",
        "f,fault,top,pf = [],0,0,'No'\n",
        "print(\"Enter the reference string: \",end=\"\")\n",
        "s = list(map(int,input().strip().split()))\n",
        "print(\"\\nString|Frame \\t\",end='')\n",
        "for i in range(capacity):\n",
        "    print(i,end=' ')\n",
        "print(\"Fault\\n   \\n\")\n",
        "for i in s:\n",
        "    if i not in f:\n",
        "        if len(f)<capacity:\n",
        "            f.append(i)\n",
        "        else:\n",
        "            f[top] = i\n",
        "            top = (top+1)%capacity\n",
        "        fault += 1\n",
        "        pf = 'Yes'\n",
        "    else:\n",
        "        pf = 'No'\n",
        "    print(\"   %d\\t\\t\"%i,end='')\n",
        "    for x in f:\n",
        "        print(x,end=' ')\n",
        "    for x in range(capacity-len(f)):\n",
        "        print(' ',end=' ')\n",
        "    print(\" %s\"%pf)\n",
        "print(\"\\nTotal requests: %d\\nTotal Page Faults: %d\\nFault Rate: %0.2f%%\"%(len(s),fault,(fault/len(s))*100))"
      ]
    },
    {
      "cell_type": "markdown",
      "source": [
        "# **LRU**"
      ],
      "metadata": {
        "id": "KuBu3ajHhMBV"
      }
    },
    {
      "cell_type": "code",
      "source": [
        "print(\"Enter the number of frames: \",end=\"\")\n",
        "capacity = int(input())\n",
        "f,st,fault,pf = [],[],0,'No'\n",
        "print(\"Enter the reference string: \",end=\"\")\n",
        "s = list(map(int,input().strip().split()))\n",
        "print(\"\\nString|Frame \\t\",end='')\n",
        "for i in range(capacity):\n",
        "    print(i,end=' ')\n",
        "print(\"Fault\\n   \\n\")\n",
        "for i in s:\n",
        "    if i not in f:\n",
        "        if len(f)<capacity:\n",
        "            f.append(i)\n",
        "            st.append(len(f)-1)\n",
        "        else:\n",
        "            ind = st.pop(0)\n",
        "            f[ind] = i\n",
        "            st.append(ind)\n",
        "        pf = 'Yes'\n",
        "        fault += 1\n",
        "    else:\n",
        "        st.append(st.pop(st.index(f.index(i))))\n",
        "        pf = 'No'\n",
        "    print(\"   %d\\t\\t\"%i,end='')\n",
        "    for x in f:\n",
        "        print(x,end=' ')\n",
        "    for x in range(capacity-len(f)):\n",
        "        print(' ',end=' ')\n",
        "    print(\" %s\"%pf)\n",
        "print(\"\\nTotal Requests: %d\\nTotal Page Faults: %d\\nFault Rate: %0.2f%%\"%(len(s),fault,(fault/len(s))*100))"
      ],
      "metadata": {
        "colab": {
          "base_uri": "https://localhost:8080/"
        },
        "id": "lBi6sSUygOsD",
        "outputId": "67a62ace-356c-4dc4-98de-d9c9dfbb849b"
      },
      "execution_count": null,
      "outputs": [
        {
          "output_type": "stream",
          "name": "stdout",
          "text": [
            "Enter the number of frames: 4\n",
            "Enter the reference string: 7 0 1 2 0 3 0 4 2 3 0 3 2\n",
            "\n",
            "String|Frame \t0 1 2 3 Fault\n",
            "   \n",
            "\n",
            "   7\t\t7        Yes\n",
            "   0\t\t7 0      Yes\n",
            "   1\t\t7 0 1    Yes\n",
            "   2\t\t7 0 1 2  Yes\n",
            "   0\t\t7 0 1 2  No\n",
            "   3\t\t3 0 1 2  Yes\n",
            "   0\t\t3 0 1 2  No\n",
            "   4\t\t3 0 4 2  Yes\n",
            "   2\t\t3 0 4 2  No\n",
            "   3\t\t3 0 4 2  No\n",
            "   0\t\t3 0 4 2  No\n",
            "   3\t\t3 0 4 2  No\n",
            "   2\t\t3 0 4 2  No\n",
            "\n",
            "Total Requests: 13\n",
            "Total Page Faults: 6\n",
            "Fault Rate: 46.15%\n"
          ]
        }
      ]
    },
    {
      "cell_type": "markdown",
      "source": [
        "# **Optimal**"
      ],
      "metadata": {
        "id": "_wDNvzalhQH8"
      }
    },
    {
      "cell_type": "code",
      "source": [
        "print(\"Enter the number of frames: \",end=\"\")\n",
        "capacity = int(input())\n",
        "f,fault,pf = [],0,'No'\n",
        "print(\"Enter the reference string: \",end=\"\")\n",
        "s = list(map(int,input().strip().split()))\n",
        "print(\"\\nString|Frame \\t\",end='')\n",
        "for i in range(capacity):\n",
        "    print(i,end=' ')\n",
        "print(\"Fault\\n   \\n\")\n",
        "occurance = [None for i in range(capacity)]\n",
        "for i in range(len(s)):\n",
        "    if s[i] not in f:\n",
        "        if len(f)<capacity:\n",
        "            f.append(s[i])\n",
        "        else:\n",
        "            for x in range(len(f)):\n",
        "                if f[x] not in s[i+1:]:\n",
        "                    f[x] = s[i]\n",
        "                    break\n",
        "                else:\n",
        "                    occurance[x] = s[i+1:].index(f[x])\n",
        "            else:\n",
        "                f[occurance.index(max(occurance))] = s[i]\n",
        "        fault += 1\n",
        "        pf = 'Yes'\n",
        "    else:\n",
        "        pf = 'No'\n",
        "    print(\"   %d\\t\\t\"%s[i],end='')\n",
        "    for x in f:\n",
        "        print(x,end=' ')\n",
        "    for x in range(capacity-len(f)):\n",
        "        print(' ',end=' ')\n",
        "    print(\" %s\"%pf)\n",
        "print(\"\\nTotal requests: %d\\nTotal Page Faults: %d\\nFault Rate: %0.2f%%\"%(len(s),fault,(fault/len(s))*100))"
      ],
      "metadata": {
        "colab": {
          "base_uri": "https://localhost:8080/"
        },
        "id": "EgoamtbPgOus",
        "outputId": "d5168d55-8538-41b4-dd3b-5c2a11fac350"
      },
      "execution_count": null,
      "outputs": [
        {
          "output_type": "stream",
          "name": "stdout",
          "text": [
            "Enter the number of frames: 4\n",
            "Enter the reference string: 7 0 1 2 0 3 0 4 2 3 0 3 2\n",
            "\n",
            "String|Frame \t0 1 2 3 Fault\n",
            "   \n",
            "\n",
            "   7\t\t7        Yes\n",
            "   0\t\t7 0      Yes\n",
            "   1\t\t7 0 1    Yes\n",
            "   2\t\t7 0 1 2  Yes\n",
            "   0\t\t7 0 1 2  No\n",
            "   3\t\t3 0 1 2  Yes\n",
            "   0\t\t3 0 1 2  No\n",
            "   4\t\t3 0 4 2  Yes\n",
            "   2\t\t3 0 4 2  No\n",
            "   3\t\t3 0 4 2  No\n",
            "   0\t\t3 0 4 2  No\n",
            "   3\t\t3 0 4 2  No\n",
            "   2\t\t3 0 4 2  No\n",
            "\n",
            "Total requests: 13\n",
            "Total Page Faults: 6\n",
            "Fault Rate: 46.15%\n"
          ]
        }
      ]
    }
  ]
}